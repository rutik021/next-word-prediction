{
  "cells": [
    {
      "cell_type": "code",
      "execution_count": null,
      "id": "6134200d",
      "metadata": {
        "id": "6134200d"
      },
      "outputs": [],
      "source": [
        "import numpy as np\n",
        "import tensorflow as tf\n",
        "from tensorflow.keras.preprocessing.text import Tokenizer\n",
        "from tensorflow.keras.preprocessing.sequence import pad_sequences\n",
        "from tensorflow.keras.models import Sequential\n",
        "from tensorflow.keras.layers import Embedding, LSTM, Dense\n",
        "\n",
        "# Reading corpus the text file\n",
        "with open(\"/content/AI-dataset.txt\", 'r', encoding='utf-8') as myfile:\n",
        "    mytext = myfile.read()"
      ]
    },
    {
      "cell_type": "code",
      "execution_count": null,
      "id": "3f0d8c7b",
      "metadata": {
        "id": "3f0d8c7b"
      },
      "outputs": [],
      "source": [
        "mytokenizer = Tokenizer()\n",
        "mytokenizer.fit_on_texts([mytext])\n",
        "total_words = len(mytokenizer.word_index) + 1"
      ]
    },
    {
      "cell_type": "code",
      "execution_count": null,
      "id": "c67d349f",
      "metadata": {
        "id": "c67d349f"
      },
      "outputs": [],
      "source": [
        "word_index_dict = mytokenizer.word_index\n",
        "word_list = list(word_index_dict.keys())\n",
        "# mytokenizer.word_index\n",
        "# word_list"
      ]
    },
    {
      "cell_type": "code",
      "execution_count": null,
      "id": "c4c696fe",
      "metadata": {
        "id": "c4c696fe"
      },
      "outputs": [],
      "source": [
        "my_input_sequences = []\n",
        "for line in mytext.split('\\n'):\n",
        "    #print(line)\n",
        "    token_list = mytokenizer.texts_to_sequences([line])[0]\n",
        "    #print(token_list)\n",
        "    for i in range(1, len(token_list)):\n",
        "        my_n_gram_sequence = token_list[:i+1]\n",
        "        #print(my_n_gram_sequence)\n",
        "        my_input_sequences.append(my_n_gram_sequence)\n",
        "        #print(input_sequences)"
      ]
    },
    {
      "cell_type": "code",
      "execution_count": null,
      "id": "bd13dce9",
      "metadata": {
        "id": "bd13dce9"
      },
      "outputs": [],
      "source": [
        "max_sequence_len = max([len(seq) for seq in my_input_sequences])\n",
        "input_sequences = np.array(pad_sequences(my_input_sequences, maxlen=max_sequence_len, padding='pre'))"
      ]
    },
    {
      "cell_type": "code",
      "execution_count": null,
      "id": "cf398edc",
      "metadata": {
        "id": "cf398edc",
        "colab": {
          "base_uri": "https://localhost:8080/"
        },
        "outputId": "4f96fd7e-b475-4ea4-b319-fd64a2d674af"
      },
      "outputs": [
        {
          "output_type": "execute_result",
          "data": {
            "text/plain": [
              "array([   0,    0,    0,    0,    0,    0,    0,    0,    0,    0,    0,\n",
              "          0,    0,    0,    0,    0,    0,  145, 4790,    1], dtype=int32)"
            ]
          },
          "metadata": {},
          "execution_count": 6
        }
      ],
      "source": [
        "input_sequences[1]"
      ]
    },
    {
      "cell_type": "code",
      "execution_count": null,
      "id": "ce62fdd7",
      "metadata": {
        "id": "ce62fdd7"
      },
      "outputs": [],
      "source": [
        "X = input_sequences[:, :-1]\n",
        "y = input_sequences[:, -1]"
      ]
    },
    {
      "cell_type": "code",
      "execution_count": null,
      "id": "6385ea38",
      "metadata": {
        "id": "6385ea38",
        "colab": {
          "base_uri": "https://localhost:8080/"
        },
        "outputId": "982604e6-b545-46f6-9d99-62ab60f6a5b8"
      },
      "outputs": [
        {
          "output_type": "execute_result",
          "data": {
            "text/plain": [
              "array([   0,    0,    0,    0,    0,    0,    0,    0,    0,    0,    0,\n",
              "          0,    0,    0,    0,    0,    0,  145, 4790], dtype=int32)"
            ]
          },
          "metadata": {},
          "execution_count": 8
        }
      ],
      "source": [
        "X[1]"
      ]
    },
    {
      "cell_type": "code",
      "execution_count": null,
      "id": "bc113505",
      "metadata": {
        "id": "bc113505",
        "colab": {
          "base_uri": "https://localhost:8080/"
        },
        "outputId": "d305980f-86ec-45db-a352-a4164cd096b3"
      },
      "outputs": [
        {
          "output_type": "execute_result",
          "data": {
            "text/plain": [
              "array([4790,    1, 1020, ...,   83,  358, 1673], dtype=int32)"
            ]
          },
          "metadata": {},
          "execution_count": 9
        }
      ],
      "source": [
        "y"
      ]
    },
    {
      "cell_type": "code",
      "execution_count": null,
      "id": "2ef255b4",
      "metadata": {
        "id": "2ef255b4"
      },
      "outputs": [],
      "source": [
        "y = np.array(tf.keras.utils.to_categorical(y, num_classes=total_words))"
      ]
    },
    {
      "cell_type": "code",
      "execution_count": null,
      "id": "1e13587e",
      "metadata": {
        "id": "1e13587e",
        "colab": {
          "base_uri": "https://localhost:8080/"
        },
        "outputId": "e6134c0a-841d-411b-ab88-8bee5ed1ec81"
      },
      "outputs": [
        {
          "output_type": "execute_result",
          "data": {
            "text/plain": [
              "array([0., 1., 0., ..., 0., 0., 0.], dtype=float32)"
            ]
          },
          "metadata": {},
          "execution_count": 11
        }
      ],
      "source": [
        "y[1]"
      ]
    },
    {
      "cell_type": "code",
      "execution_count": null,
      "id": "28ac495c",
      "metadata": {
        "id": "28ac495c",
        "colab": {
          "base_uri": "https://localhost:8080/"
        },
        "outputId": "f3c1001b-ecaa-4413-d34e-31a427985281"
      },
      "outputs": [
        {
          "output_type": "stream",
          "name": "stdout",
          "text": [
            "Model: \"sequential\"\n",
            "_________________________________________________________________\n",
            " Layer (type)                Output Shape              Param #   \n",
            "=================================================================\n",
            " embedding (Embedding)       (None, 19, 100)           893200    \n",
            "                                                                 \n",
            " lstm (LSTM)                 (None, 150)               150600    \n",
            "                                                                 \n",
            " dense (Dense)               (None, 8932)              1348732   \n",
            "                                                                 \n",
            "=================================================================\n",
            "Total params: 2392532 (9.13 MB)\n",
            "Trainable params: 2392532 (9.13 MB)\n",
            "Non-trainable params: 0 (0.00 Byte)\n",
            "_________________________________________________________________\n",
            "None\n"
          ]
        }
      ],
      "source": [
        "model = Sequential()\n",
        "model.add(Embedding(total_words, 100, input_length=max_sequence_len-1))\n",
        "model.add(LSTM(150))\n",
        "model.add(Dense(total_words, activation='softmax'))\n",
        "print(model.summary())"
      ]
    },
    {
      "cell_type": "code",
      "execution_count": null,
      "id": "912b7746",
      "metadata": {
        "id": "912b7746",
        "colab": {
          "base_uri": "https://localhost:8080/"
        },
        "outputId": "e32e5e1a-2c25-4967-a975-dacc8d60baef"
      },
      "outputs": [
        {
          "output_type": "stream",
          "name": "stdout",
          "text": [
            "Epoch 1/40\n",
            "3176/3176 [==============================] - 41s 12ms/step - loss: 6.2551 - accuracy: 0.0770\n",
            "Epoch 2/40\n",
            "3176/3176 [==============================] - 26s 8ms/step - loss: 5.4673 - accuracy: 0.1300\n",
            "Epoch 3/40\n",
            "3176/3176 [==============================] - 24s 8ms/step - loss: 5.0557 - accuracy: 0.1553\n",
            "Epoch 4/40\n",
            "3176/3176 [==============================] - 24s 7ms/step - loss: 4.7141 - accuracy: 0.1746\n",
            "Epoch 5/40\n",
            "3176/3176 [==============================] - 24s 8ms/step - loss: 4.4033 - accuracy: 0.1927\n",
            "Epoch 6/40\n",
            "3176/3176 [==============================] - 23s 7ms/step - loss: 4.1073 - accuracy: 0.2165\n",
            "Epoch 7/40\n",
            "3176/3176 [==============================] - 24s 8ms/step - loss: 3.8254 - accuracy: 0.2427\n",
            "Epoch 8/40\n",
            "3176/3176 [==============================] - 24s 8ms/step - loss: 3.5604 - accuracy: 0.2747\n",
            "Epoch 9/40\n",
            "3176/3176 [==============================] - 24s 7ms/step - loss: 3.3121 - accuracy: 0.3111\n",
            "Epoch 10/40\n",
            "3176/3176 [==============================] - 23s 7ms/step - loss: 3.0820 - accuracy: 0.3478\n",
            "Epoch 11/40\n",
            "3176/3176 [==============================] - 24s 8ms/step - loss: 2.8705 - accuracy: 0.3810\n",
            "Epoch 12/40\n",
            "3176/3176 [==============================] - 25s 8ms/step - loss: 2.6777 - accuracy: 0.4185\n",
            "Epoch 13/40\n",
            "3176/3176 [==============================] - 24s 8ms/step - loss: 2.4980 - accuracy: 0.4504\n",
            "Epoch 14/40\n",
            "3176/3176 [==============================] - 23s 7ms/step - loss: 2.3361 - accuracy: 0.4820\n",
            "Epoch 15/40\n",
            "3176/3176 [==============================] - 24s 8ms/step - loss: 2.1857 - accuracy: 0.5128\n",
            "Epoch 16/40\n",
            "3176/3176 [==============================] - 25s 8ms/step - loss: 2.0523 - accuracy: 0.5404\n",
            "Epoch 17/40\n",
            "3176/3176 [==============================] - 25s 8ms/step - loss: 1.9290 - accuracy: 0.5671\n",
            "Epoch 18/40\n",
            "3176/3176 [==============================] - 24s 7ms/step - loss: 1.8151 - accuracy: 0.5911\n",
            "Epoch 19/40\n",
            "3176/3176 [==============================] - 24s 7ms/step - loss: 1.7110 - accuracy: 0.6119\n",
            "Epoch 20/40\n",
            "3176/3176 [==============================] - 24s 8ms/step - loss: 1.6169 - accuracy: 0.6325\n",
            "Epoch 21/40\n",
            "3176/3176 [==============================] - 23s 7ms/step - loss: 1.5308 - accuracy: 0.6531\n",
            "Epoch 22/40\n",
            "3176/3176 [==============================] - 24s 7ms/step - loss: 1.4519 - accuracy: 0.6690\n",
            "Epoch 23/40\n",
            "3176/3176 [==============================] - 24s 7ms/step - loss: 1.3775 - accuracy: 0.6861\n",
            "Epoch 24/40\n",
            "3176/3176 [==============================] - 24s 8ms/step - loss: 1.3126 - accuracy: 0.6997\n",
            "Epoch 25/40\n",
            "3176/3176 [==============================] - 23s 7ms/step - loss: 1.2515 - accuracy: 0.7122\n",
            "Epoch 26/40\n",
            "3176/3176 [==============================] - 23s 7ms/step - loss: 1.1961 - accuracy: 0.7248\n",
            "Epoch 27/40\n",
            "3176/3176 [==============================] - 23s 7ms/step - loss: 1.1455 - accuracy: 0.7360\n",
            "Epoch 28/40\n",
            "3176/3176 [==============================] - 24s 8ms/step - loss: 1.0951 - accuracy: 0.7470\n",
            "Epoch 29/40\n",
            "3176/3176 [==============================] - 23s 7ms/step - loss: 1.0547 - accuracy: 0.7559\n",
            "Epoch 30/40\n",
            "3176/3176 [==============================] - 24s 7ms/step - loss: 1.0117 - accuracy: 0.7651\n",
            "Epoch 31/40\n",
            "3176/3176 [==============================] - 23s 7ms/step - loss: 0.9756 - accuracy: 0.7736\n",
            "Epoch 32/40\n",
            "3176/3176 [==============================] - 23s 7ms/step - loss: 0.9393 - accuracy: 0.7816\n",
            "Epoch 33/40\n",
            "3176/3176 [==============================] - 23s 7ms/step - loss: 0.9086 - accuracy: 0.7875\n",
            "Epoch 34/40\n",
            "3176/3176 [==============================] - 24s 7ms/step - loss: 0.8800 - accuracy: 0.7938\n",
            "Epoch 35/40\n",
            "3176/3176 [==============================] - 24s 7ms/step - loss: 0.8514 - accuracy: 0.8001\n",
            "Epoch 36/40\n",
            "3176/3176 [==============================] - 24s 7ms/step - loss: 0.8240 - accuracy: 0.8062\n",
            "Epoch 37/40\n",
            "3176/3176 [==============================] - 24s 8ms/step - loss: 0.8024 - accuracy: 0.8099\n",
            "Epoch 38/40\n",
            "3176/3176 [==============================] - 23s 7ms/step - loss: 0.7791 - accuracy: 0.8167\n",
            "Epoch 39/40\n",
            "3176/3176 [==============================] - 24s 7ms/step - loss: 0.7610 - accuracy: 0.8195\n",
            "Epoch 40/40\n",
            "3176/3176 [==============================] - 24s 7ms/step - loss: 0.7415 - accuracy: 0.8257\n"
          ]
        },
        {
          "output_type": "execute_result",
          "data": {
            "text/plain": [
              "<keras.src.callbacks.History at 0x7d09afd3b940>"
            ]
          },
          "metadata": {},
          "execution_count": 13
        }
      ],
      "source": [
        "model.compile(loss='categorical_crossentropy', optimizer='adam', metrics=['accuracy'])\n",
        "model.fit(X, y, epochs=40, verbose=1)"
      ]
    },
    {
      "cell_type": "code",
      "execution_count": null,
      "id": "dc30fe17",
      "metadata": {
        "id": "dc30fe17",
        "colab": {
          "base_uri": "https://localhost:8080/"
        },
        "outputId": "4a6b0407-4bcb-4c09-b117-cf1d72c15294"
      },
      "outputs": [
        {
          "output_type": "stream",
          "name": "stdout",
          "text": [
            "1/1 [==============================] - 0s 18ms/step\n",
            "1/1 [==============================] - 0s 17ms/step\n",
            "1/1 [==============================] - 0s 18ms/step\n",
            "1/1 [==============================] - 0s 17ms/step\n",
            "1/1 [==============================] - 0s 18ms/step\n",
            "rutik the man who entered was\n"
          ]
        }
      ],
      "source": [
        "input_text = \"rutik\"\n",
        "# print(word_list)\n",
        "predict_next_words=5\n",
        "for _ in range(predict_next_words):\n",
        "    token_list = mytokenizer.texts_to_sequences([input_text])[0]\n",
        "    # print(token_list)\n",
        "    token_list = pad_sequences([token_list], maxlen=max_sequence_len-1, padding='pre')\n",
        "    predicted = np.argmax(model.predict(token_list), axis=-1)\n",
        "    output_word = \"\"\n",
        "    for word, index in mytokenizer.word_index.items():\n",
        "        if index == predicted:\n",
        "            output_word = word\n",
        "            break\n",
        "    input_text += \" \" + output_word\n",
        "\n",
        "print(input_text)"
      ]
    },
    {
      "cell_type": "code",
      "source": [],
      "metadata": {
        "id": "ZrT7ZuvOItOE"
      },
      "id": "ZrT7ZuvOItOE",
      "execution_count": null,
      "outputs": []
    }
  ],
  "metadata": {
    "colab": {
      "provenance": [],
      "gpuType": "T4"
    },
    "kernelspec": {
      "display_name": "Python 3",
      "name": "python3"
    },
    "language_info": {
      "codemirror_mode": {
        "name": "ipython",
        "version": 3
      },
      "file_extension": ".py",
      "mimetype": "text/x-python",
      "name": "python",
      "nbconvert_exporter": "python",
      "pygments_lexer": "ipython3",
      "version": "3.9.15"
    },
    "accelerator": "GPU"
  },
  "nbformat": 4,
  "nbformat_minor": 5
}